{
 "cells": [
  {
   "cell_type": "code",
   "execution_count": 1,
   "id": "c8cc3e0d",
   "metadata": {},
   "outputs": [],
   "source": [
    "import zipfile as zf\n",
    "files = zf.ZipFile(\"data-20230802T125457Z-001.zip\", 'r')\n",
    "files.extractall('my_data')\n",
    "files.close()"
   ]
  },
  {
   "cell_type": "code",
   "execution_count": 3,
   "id": "8478a897",
   "metadata": {},
   "outputs": [],
   "source": [
    "from PIL import Image\n",
    "import os\n"
   ]
  },
  {
   "cell_type": "code",
   "execution_count": 4,
   "id": "74dbba66",
   "metadata": {},
   "outputs": [],
   "source": [
    "image_folder = \"my_data/data\"\n",
    "\n",
    "# List all files in the image folder\n",
    "image_files = os.listdir(image_folder)\n",
    "\n",
    "# Perform operations on each image in the folder\n",
    "for image_file in image_files:\n",
    "    image_path = os.path.join(image_folder, image_file)\n",
    "    # Open the image using Pillow\n",
    "    img = Image.open(image_path)\n",
    "    # Add your image processing or analysis code here\n",
    "    # For example, you can display the image, resize, crop, etc.\n"
   ]
  },
  {
   "cell_type": "code",
   "execution_count": null,
   "id": "01b0791c",
   "metadata": {},
   "outputs": [],
   "source": [
    "conda install -c anaconda keras"
   ]
  },
  {
   "cell_type": "code",
   "execution_count": null,
   "id": "06eaf866",
   "metadata": {},
   "outputs": [],
   "source": [
    "#conda install -c anaconda tensorflow\n"
   ]
  },
  {
   "cell_type": "code",
   "execution_count": 7,
   "id": "9351ebbf",
   "metadata": {
    "scrolled": true
   },
   "outputs": [
    {
     "ename": "ModuleNotFoundError",
     "evalue": "No module named 'keras'",
     "output_type": "error",
     "traceback": [
      "\u001b[1;31m---------------------------------------------------------------------------\u001b[0m",
      "\u001b[1;31mModuleNotFoundError\u001b[0m                       Traceback (most recent call last)",
      "\u001b[1;32m~\\AppData\\Local\\Temp\\ipykernel_9380\\2369216134.py\u001b[0m in \u001b[0;36m<module>\u001b[1;34m\u001b[0m\n\u001b[0;32m      6\u001b[0m \u001b[1;33m\u001b[0m\u001b[0m\n\u001b[0;32m      7\u001b[0m \u001b[1;32mfrom\u001b[0m \u001b[0msklearn\u001b[0m\u001b[1;33m.\u001b[0m\u001b[0mmodel_selection\u001b[0m \u001b[1;32mimport\u001b[0m \u001b[0mtrain_test_split\u001b[0m\u001b[1;33m\u001b[0m\u001b[1;33m\u001b[0m\u001b[0m\n\u001b[1;32m----> 8\u001b[1;33m \u001b[1;32mfrom\u001b[0m \u001b[0mkeras\u001b[0m\u001b[1;33m.\u001b[0m\u001b[0mutils\u001b[0m \u001b[1;32mimport\u001b[0m \u001b[0mto_categorical\u001b[0m\u001b[1;33m\u001b[0m\u001b[1;33m\u001b[0m\u001b[0m\n\u001b[0m\u001b[0;32m      9\u001b[0m \u001b[1;32mfrom\u001b[0m \u001b[0mkeras\u001b[0m\u001b[1;33m.\u001b[0m\u001b[0mmodels\u001b[0m \u001b[1;32mimport\u001b[0m \u001b[0mSequential\u001b[0m\u001b[1;33m\u001b[0m\u001b[1;33m\u001b[0m\u001b[0m\n\u001b[0;32m     10\u001b[0m \u001b[1;32mfrom\u001b[0m \u001b[0mkeras\u001b[0m\u001b[1;33m.\u001b[0m\u001b[0mlayers\u001b[0m \u001b[1;32mimport\u001b[0m \u001b[0mConv2D\u001b[0m\u001b[1;33m,\u001b[0m \u001b[0mMaxPooling2D\u001b[0m\u001b[1;33m,\u001b[0m \u001b[0mFlatten\u001b[0m\u001b[1;33m,\u001b[0m \u001b[0mDense\u001b[0m\u001b[1;33m,\u001b[0m \u001b[0mDropout\u001b[0m\u001b[1;33m\u001b[0m\u001b[1;33m\u001b[0m\u001b[0m\n",
      "\u001b[1;31mModuleNotFoundError\u001b[0m: No module named 'keras'"
     ]
    }
   ],
   "source": [
    "import os\n",
    "import numpy as np\n",
    "import pandas as pd\n",
    "import matplotlib.pyplot as plt\n",
    "from PIL import Image\n",
    "\n",
    "from sklearn.model_selection import train_test_split\n",
    "from keras.utils import to_categorical\n",
    "from keras.models import Sequential\n",
    "from keras.layers import Conv2D, MaxPooling2D, Flatten, Dense, Dropout"
   ]
  },
  {
   "cell_type": "code",
   "execution_count": null,
   "id": "67b76b49",
   "metadata": {},
   "outputs": [],
   "source": [
    "# Function to load and preprocess image data\n",
    "\n",
    "def load_data(data_folder, image_size):\n",
    "    X = []\n",
    "    y = []\n",
    "    for label in os.listdir(data_folder):\n",
    "        label_folder = os.path.join(data_folder, label)\n",
    "        for image_file in os.listdir(label_folder):\n",
    "            image_path = os.path.join(label_folder, image_file)\n",
    "            image = Image.open(image_path).convert('RGB')\n",
    "            image = image.resize((image_size, image_size))\n",
    "            X.append(np.array(image))\n",
    "            y.append(int(label))\n",
    "    return np.array(X), np.array(y)"
   ]
  },
  {
   "cell_type": "code",
   "execution_count": null,
   "id": "7c87e50a",
   "metadata": {},
   "outputs": [],
   "source": [
    "# Set the path to your dataset folder containing images of different quality labels\n",
    "data_folder = \"path/to/dataset_folder\"\n",
    "image_size = 100  # Adjust this based on your image size requirements\n",
    "\n",
    "# Load and preprocess the data\n",
    "X, y = load_data(data_folder, image_size)\n",
    "\n",
    "# Split the data into training and testing sets\n",
    "X_train, X_test, y_train, y_test = train_test_split(X, y, test_size=0.2, random_state=42)\n",
    "\n",
    "# Convert the labels to one-hot encoding\n",
    "y_train = to_categorical(y_train)\n",
    "y_test = to_categorical(y_test)"
   ]
  },
  {
   "cell_type": "code",
   "execution_count": null,
   "id": "305a53c1",
   "metadata": {},
   "outputs": [],
   "source": [
    "# Create the CNN model\n",
    "model = Sequential()\n",
    "model.add(Conv2D(32, kernel_size=(3, 3), activation='relu', input_shape=(image_size, image_size, 3)))\n",
    "model.add(MaxPooling2D(pool_size=(2, 2)))\n",
    "model.add(Conv2D(64, kernel_size=(3, 3), activation='relu'))\n",
    "model.add(MaxPooling2D(pool_size=(2, 2)))\n",
    "model.add(Flatten())\n",
    "model.add(Dense(128, activation='relu'))\n",
    "model.add(Dropout(0.5))\n",
    "model.add(Dense(len(np.unique(y)), activation='softmax'))\n",
    "\n",
    "model.compile(loss='categorical_crossentropy', optimizer='adam', metrics=['accuracy'])\n",
    "\n",
    "# Train the model\n",
    "model.fit(X_train, y_train, batch_size=32, epochs=10, validation_split=0.2)\n"
   ]
  },
  {
   "cell_type": "code",
   "execution_count": null,
   "id": "2511a2c4",
   "metadata": {},
   "outputs": [],
   "source": [
    "# Evaluate the model on the test set\n",
    "test_loss, test_accuracy = model.evaluate(X_test, y_test)\n",
    "print(\"Test accuracy:\", test_accuracy)\n"
   ]
  },
  {
   "cell_type": "code",
   "execution_count": null,
   "id": "a20f37f4",
   "metadata": {},
   "outputs": [],
   "source": [
    "# Make predictions on new data (assuming 'new_data' is a new set of images)\n",
    "# new_data = ...  # Load and preprocess new data similar to the training data\n",
    "# predictions = model.predict(new_data)\n",
    "\n",
    "# Visualize sample images (optional)\n",
    "num_samples_to_visualize = 5\n",
    "fig, axes = plt.subplots(1, num_samples_to_visualize, figsize=(10, 4))\n",
    "for i in range(num_samples_to_visualize):\n",
    "    axes[i].imshow(X_train[i])\n",
    "    axes[i].set_title(f\"Label: {np.argmax(y_train[i])}\")\n",
    "    axes[i].axis('off')\n",
    "\n",
    "plt.show()"
   ]
  },
  {
   "cell_type": "code",
   "execution_count": null,
   "id": "000cf491",
   "metadata": {},
   "outputs": [],
   "source": [
    "print (\"hello word\")"
   ]
  }
 ],
 "metadata": {
  "kernelspec": {
   "display_name": "Python 3 (ipykernel)",
   "language": "python",
   "name": "python3"
  },
  "language_info": {
   "codemirror_mode": {
    "name": "ipython",
    "version": 3
   },
   "file_extension": ".py",
   "mimetype": "text/x-python",
   "name": "python",
   "nbconvert_exporter": "python",
   "pygments_lexer": "ipython3",
   "version": "3.9.13"
  }
 },
 "nbformat": 4,
 "nbformat_minor": 5
}
