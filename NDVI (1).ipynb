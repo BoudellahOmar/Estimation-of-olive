{
  "cells": [
    {
      "cell_type": "code",
      "execution_count": 2,
      "metadata": {
        "colab": {
          "base_uri": "https://localhost:8080/"
        },
        "id": "r8cCaBWVK9Nl",
        "outputId": "732545f7-8cf2-46b5-cf34-5444693139d9"
      },
      "outputs": [
        {
          "output_type": "stream",
          "name": "stdout",
          "text": [
            "Collecting rasterio\n",
            "  Downloading rasterio-1.3.8-cp310-cp310-manylinux_2_17_x86_64.manylinux2014_x86_64.whl (21.3 MB)\n",
            "\u001b[2K     \u001b[90m━━━━━━━━━━━━━━━━━━━━━━━━━━━━━━━━━━━━━━━━\u001b[0m \u001b[32m21.3/21.3 MB\u001b[0m \u001b[31m37.0 MB/s\u001b[0m eta \u001b[36m0:00:00\u001b[0m\n",
            "\u001b[?25hCollecting affine (from rasterio)\n",
            "  Downloading affine-2.4.0-py3-none-any.whl (15 kB)\n",
            "Requirement already satisfied: attrs in /usr/local/lib/python3.10/dist-packages (from rasterio) (23.1.0)\n",
            "Requirement already satisfied: certifi in /usr/local/lib/python3.10/dist-packages (from rasterio) (2023.7.22)\n",
            "Requirement already satisfied: click>=4.0 in /usr/local/lib/python3.10/dist-packages (from rasterio) (8.1.6)\n",
            "Requirement already satisfied: cligj>=0.5 in /usr/local/lib/python3.10/dist-packages (from rasterio) (0.7.2)\n",
            "Requirement already satisfied: numpy>=1.18 in /usr/local/lib/python3.10/dist-packages (from rasterio) (1.23.5)\n",
            "Collecting snuggs>=1.4.1 (from rasterio)\n",
            "  Downloading snuggs-1.4.7-py3-none-any.whl (5.4 kB)\n",
            "Requirement already satisfied: click-plugins in /usr/local/lib/python3.10/dist-packages (from rasterio) (1.1.1)\n",
            "Requirement already satisfied: setuptools in /usr/local/lib/python3.10/dist-packages (from rasterio) (67.7.2)\n",
            "Requirement already satisfied: pyparsing>=2.1.6 in /usr/local/lib/python3.10/dist-packages (from snuggs>=1.4.1->rasterio) (3.1.1)\n",
            "Installing collected packages: snuggs, affine, rasterio\n",
            "Successfully installed affine-2.4.0 rasterio-1.3.8 snuggs-1.4.7\n"
          ]
        }
      ],
      "source": [
        "!pip install rasterio"
      ]
    },
    {
      "cell_type": "code",
      "source": [
        "import rasterio"
      ],
      "metadata": {
        "id": "6tT06jiR7j6o"
      },
      "execution_count": 3,
      "outputs": []
    },
    {
      "cell_type": "code",
      "execution_count": 1,
      "metadata": {
        "id": "Tp-M2OpjSAWj"
      },
      "outputs": [],
      "source": [
        "import zipfile as zf\n",
        "files = zf.ZipFile(\"/content/thumbnails.zip\", 'r')\n",
        "files.extractall('my_data')\n",
        "files.close()"
      ]
    },
    {
      "cell_type": "markdown",
      "source": [
        "##I want to convert png image to tif"
      ],
      "metadata": {
        "id": "OqpMR6RJ5BIj"
      }
    },
    {
      "cell_type": "code",
      "source": [
        "from PIL import Image\n",
        "import os"
      ],
      "metadata": {
        "id": "8HwYIsDa41JF"
      },
      "execution_count": 2,
      "outputs": []
    },
    {
      "cell_type": "code",
      "source": [
        "# Directory containing JPG images\n",
        "jpg_folder = '/content/my_data/thumbnails'\n",
        "\n",
        "# Directory to save TIF images\n",
        "tif_folder = 'save_tif_folder'\n",
        "\n",
        "# Create the target folder if it doesn't exist\n",
        "if not os.path.exists(tif_folder):\n",
        "    os.makedirs(tif_folder)"
      ],
      "metadata": {
        "id": "pe6EX81M41FD"
      },
      "execution_count": 3,
      "outputs": []
    },
    {
      "cell_type": "code",
      "execution_count": 4,
      "metadata": {
        "colab": {
          "base_uri": "https://localhost:8080/"
        },
        "id": "Mys2oZFmSKhr",
        "outputId": "dce673f2-4645-4e59-e4db-1cd3fb04ed6e"
      },
      "outputs": [
        {
          "output_type": "stream",
          "name": "stdout",
          "text": [
            "Converted /content/my_data/thumbnails/DJI_0302_512.jpg to save_tif_folder/DJI_0302_512.tif\n",
            "Converted /content/my_data/thumbnails/DJI_0374_512.jpg to save_tif_folder/DJI_0374_512.tif\n",
            "Converted /content/my_data/thumbnails/DJI_0363_512.jpg to save_tif_folder/DJI_0363_512.tif\n",
            "Converted /content/my_data/thumbnails/DJI_0371_512.jpg to save_tif_folder/DJI_0371_512.tif\n",
            "Converted /content/my_data/thumbnails/DJI_0348_512.jpg to save_tif_folder/DJI_0348_512.tif\n",
            "Converted /content/my_data/thumbnails/DJI_0296_512.jpg to save_tif_folder/DJI_0296_512.tif\n",
            "Converted /content/my_data/thumbnails/DJI_0278_512.jpg to save_tif_folder/DJI_0278_512.tif\n",
            "Converted /content/my_data/thumbnails/DJI_0376_512.jpg to save_tif_folder/DJI_0376_512.tif\n",
            "Converted /content/my_data/thumbnails/DJI_0355_512.jpg to save_tif_folder/DJI_0355_512.tif\n",
            "Converted /content/my_data/thumbnails/DJI_0373_512.jpg to save_tif_folder/DJI_0373_512.tif\n",
            "Converted /content/my_data/thumbnails/DJI_0282_512.jpg to save_tif_folder/DJI_0282_512.tif\n",
            "Converted /content/my_data/thumbnails/DJI_0346_512.jpg to save_tif_folder/DJI_0346_512.tif\n",
            "Converted /content/my_data/thumbnails/DJI_0350_512.jpg to save_tif_folder/DJI_0350_512.tif\n",
            "Converted /content/my_data/thumbnails/DJI_0372_512.jpg to save_tif_folder/DJI_0372_512.tif\n",
            "Converted /content/my_data/thumbnails/DJI_0370_512.jpg to save_tif_folder/DJI_0370_512.tif\n",
            "Converted /content/my_data/thumbnails/DJI_0297_512.jpg to save_tif_folder/DJI_0297_512.tif\n",
            "Converted /content/my_data/thumbnails/DJI_0352_512.jpg to save_tif_folder/DJI_0352_512.tif\n",
            "Converted /content/my_data/thumbnails/DJI_0357_512.jpg to save_tif_folder/DJI_0357_512.tif\n",
            "Converted /content/my_data/thumbnails/DJI_0304_512.jpg to save_tif_folder/DJI_0304_512.tif\n",
            "Converted /content/my_data/thumbnails/DJI_0281_512.jpg to save_tif_folder/DJI_0281_512.tif\n",
            "Converted /content/my_data/thumbnails/DJI_0279_512.jpg to save_tif_folder/DJI_0279_512.tif\n",
            "Converted /content/my_data/thumbnails/DJI_0325_512.jpg to save_tif_folder/DJI_0325_512.tif\n",
            "Converted /content/my_data/thumbnails/DJI_0381_512.jpg to save_tif_folder/DJI_0381_512.tif\n",
            "Converted /content/my_data/thumbnails/DJI_0365_512.jpg to save_tif_folder/DJI_0365_512.tif\n",
            "Converted /content/my_data/thumbnails/DJI_0343_512.jpg to save_tif_folder/DJI_0343_512.tif\n",
            "Converted /content/my_data/thumbnails/DJI_0356_512.jpg to save_tif_folder/DJI_0356_512.tif\n",
            "Converted /content/my_data/thumbnails/DJI_0309_512.jpg to save_tif_folder/DJI_0309_512.tif\n",
            "Converted /content/my_data/thumbnails/DJI_0351_512.jpg to save_tif_folder/DJI_0351_512.tif\n",
            "Converted /content/my_data/thumbnails/DJI_0332_512.jpg to save_tif_folder/DJI_0332_512.tif\n",
            "Converted /content/my_data/thumbnails/DJI_0378_512.jpg to save_tif_folder/DJI_0378_512.tif\n",
            "Converted /content/my_data/thumbnails/DJI_0367_512.jpg to save_tif_folder/DJI_0367_512.tif\n",
            "Converted /content/my_data/thumbnails/DJI_0322_512.jpg to save_tif_folder/DJI_0322_512.tif\n",
            "Converted /content/my_data/thumbnails/DJI_0361_512.jpg to save_tif_folder/DJI_0361_512.tif\n",
            "Converted /content/my_data/thumbnails/DJI_0298_512.jpg to save_tif_folder/DJI_0298_512.tif\n",
            "Converted /content/my_data/thumbnails/DJI_0308_512.jpg to save_tif_folder/DJI_0308_512.tif\n",
            "Converted /content/my_data/thumbnails/DJI_0277_512.jpg to save_tif_folder/DJI_0277_512.tif\n",
            "Converted /content/my_data/thumbnails/DJI_0324_512.jpg to save_tif_folder/DJI_0324_512.tif\n",
            "Converted /content/my_data/thumbnails/DJI_0305_512.jpg to save_tif_folder/DJI_0305_512.tif\n",
            "Converted /content/my_data/thumbnails/DJI_0368_512.jpg to save_tif_folder/DJI_0368_512.tif\n",
            "Converted /content/my_data/thumbnails/DJI_0326_512.jpg to save_tif_folder/DJI_0326_512.tif\n",
            "Converted /content/my_data/thumbnails/DJI_0321_512.jpg to save_tif_folder/DJI_0321_512.tif\n",
            "Converted /content/my_data/thumbnails/DJI_0339_512.jpg to save_tif_folder/DJI_0339_512.tif\n",
            "Converted /content/my_data/thumbnails/DJI_0283_512.jpg to save_tif_folder/DJI_0283_512.tif\n",
            "Converted /content/my_data/thumbnails/DJI_0375_512.jpg to save_tif_folder/DJI_0375_512.tif\n",
            "Converted /content/my_data/thumbnails/DJI_0286_512.jpg to save_tif_folder/DJI_0286_512.tif\n",
            "Converted /content/my_data/thumbnails/DJI_0380_512.jpg to save_tif_folder/DJI_0380_512.tif\n",
            "Converted /content/my_data/thumbnails/DJI_0327_512.jpg to save_tif_folder/DJI_0327_512.tif\n",
            "Converted /content/my_data/thumbnails/DJI_0354_512.jpg to save_tif_folder/DJI_0354_512.tif\n",
            "Converted /content/my_data/thumbnails/DJI_0360_512.jpg to save_tif_folder/DJI_0360_512.tif\n",
            "Converted /content/my_data/thumbnails/DJI_0333_512.jpg to save_tif_folder/DJI_0333_512.tif\n",
            "Converted /content/my_data/thumbnails/DJI_0291_512.jpg to save_tif_folder/DJI_0291_512.tif\n",
            "Converted /content/my_data/thumbnails/DJI_0359_512.jpg to save_tif_folder/DJI_0359_512.tif\n",
            "Converted /content/my_data/thumbnails/DJI_0313_512.jpg to save_tif_folder/DJI_0313_512.tif\n",
            "Converted /content/my_data/thumbnails/DJI_0280_512.jpg to save_tif_folder/DJI_0280_512.tif\n",
            "Converted /content/my_data/thumbnails/DJI_0290_512.jpg to save_tif_folder/DJI_0290_512.tif\n",
            "Converted /content/my_data/thumbnails/DJI_0287_512.jpg to save_tif_folder/DJI_0287_512.tif\n",
            "Converted /content/my_data/thumbnails/DJI_0342_512.jpg to save_tif_folder/DJI_0342_512.tif\n",
            "Converted /content/my_data/thumbnails/DJI_0318_512.jpg to save_tif_folder/DJI_0318_512.tif\n",
            "Converted /content/my_data/thumbnails/DJI_0306_512.jpg to save_tif_folder/DJI_0306_512.tif\n",
            "Converted /content/my_data/thumbnails/DJI_0310_512.jpg to save_tif_folder/DJI_0310_512.tif\n",
            "Converted /content/my_data/thumbnails/DJI_0316_512.jpg to save_tif_folder/DJI_0316_512.tif\n",
            "Converted /content/my_data/thumbnails/DJI_0314_512.jpg to save_tif_folder/DJI_0314_512.tif\n",
            "Converted /content/my_data/thumbnails/DJI_0341_512.jpg to save_tif_folder/DJI_0341_512.tif\n",
            "Converted /content/my_data/thumbnails/DJI_0289_512.jpg to save_tif_folder/DJI_0289_512.tif\n",
            "Converted /content/my_data/thumbnails/DJI_0307_512.jpg to save_tif_folder/DJI_0307_512.tif\n",
            "Converted /content/my_data/thumbnails/DJI_0349_512.jpg to save_tif_folder/DJI_0349_512.tif\n",
            "Converted /content/my_data/thumbnails/DJI_0358_512.jpg to save_tif_folder/DJI_0358_512.tif\n",
            "Converted /content/my_data/thumbnails/DJI_0344_512.jpg to save_tif_folder/DJI_0344_512.tif\n",
            "Converted /content/my_data/thumbnails/DJI_0300_512.jpg to save_tif_folder/DJI_0300_512.tif\n",
            "Converted /content/my_data/thumbnails/DJI_0294_512.jpg to save_tif_folder/DJI_0294_512.tif\n",
            "Converted /content/my_data/thumbnails/DJI_0299_512.jpg to save_tif_folder/DJI_0299_512.tif\n",
            "Converted /content/my_data/thumbnails/DJI_0345_512.jpg to save_tif_folder/DJI_0345_512.tif\n",
            "Converted /content/my_data/thumbnails/DJI_0335_512.jpg to save_tif_folder/DJI_0335_512.tif\n",
            "Converted /content/my_data/thumbnails/DJI_0340_512.jpg to save_tif_folder/DJI_0340_512.tif\n",
            "Converted /content/my_data/thumbnails/DJI_0366_512.jpg to save_tif_folder/DJI_0366_512.tif\n",
            "Converted /content/my_data/thumbnails/DJI_0320_512.jpg to save_tif_folder/DJI_0320_512.tif\n",
            "Converted /content/my_data/thumbnails/DJI_0288_512.jpg to save_tif_folder/DJI_0288_512.tif\n",
            "Converted /content/my_data/thumbnails/DJI_0362_512.jpg to save_tif_folder/DJI_0362_512.tif\n",
            "Converted /content/my_data/thumbnails/DJI_0293_512.jpg to save_tif_folder/DJI_0293_512.tif\n",
            "Converted /content/my_data/thumbnails/DJI_0317_512.jpg to save_tif_folder/DJI_0317_512.tif\n",
            "Converted /content/my_data/thumbnails/DJI_0337_512.jpg to save_tif_folder/DJI_0337_512.tif\n",
            "Converted /content/my_data/thumbnails/DJI_0301_512.jpg to save_tif_folder/DJI_0301_512.tif\n",
            "Converted /content/my_data/thumbnails/DJI_0377_512.jpg to save_tif_folder/DJI_0377_512.tif\n",
            "Converted /content/my_data/thumbnails/DJI_0353_512.jpg to save_tif_folder/DJI_0353_512.tif\n",
            "Converted /content/my_data/thumbnails/DJI_0334_512.jpg to save_tif_folder/DJI_0334_512.tif\n",
            "Converted /content/my_data/thumbnails/DJI_0347_512.jpg to save_tif_folder/DJI_0347_512.tif\n",
            "Converted /content/my_data/thumbnails/DJI_0311_512.jpg to save_tif_folder/DJI_0311_512.tif\n",
            "Converted /content/my_data/thumbnails/DJI_0328_512.jpg to save_tif_folder/DJI_0328_512.tif\n",
            "Converted /content/my_data/thumbnails/DJI_0379_512.jpg to save_tif_folder/DJI_0379_512.tif\n",
            "Converted /content/my_data/thumbnails/DJI_0303_512.jpg to save_tif_folder/DJI_0303_512.tif\n",
            "Converted /content/my_data/thumbnails/DJI_0330_512.jpg to save_tif_folder/DJI_0330_512.tif\n",
            "Converted /content/my_data/thumbnails/DJI_0285_512.jpg to save_tif_folder/DJI_0285_512.tif\n",
            "Converted /content/my_data/thumbnails/DJI_0338_512.jpg to save_tif_folder/DJI_0338_512.tif\n",
            "Converted /content/my_data/thumbnails/DJI_0292_512.jpg to save_tif_folder/DJI_0292_512.tif\n",
            "Converted /content/my_data/thumbnails/DJI_0315_512.jpg to save_tif_folder/DJI_0315_512.tif\n",
            "Converted /content/my_data/thumbnails/DJI_0331_512.jpg to save_tif_folder/DJI_0331_512.tif\n",
            "Converted /content/my_data/thumbnails/DJI_0284_512.jpg to save_tif_folder/DJI_0284_512.tif\n",
            "Converted /content/my_data/thumbnails/DJI_0369_512.jpg to save_tif_folder/DJI_0369_512.tif\n",
            "Converted /content/my_data/thumbnails/DJI_0319_512.jpg to save_tif_folder/DJI_0319_512.tif\n",
            "Converted /content/my_data/thumbnails/DJI_0323_512.jpg to save_tif_folder/DJI_0323_512.tif\n",
            "Converted /content/my_data/thumbnails/DJI_0364_512.jpg to save_tif_folder/DJI_0364_512.tif\n",
            "Converted /content/my_data/thumbnails/DJI_0295_512.jpg to save_tif_folder/DJI_0295_512.tif\n",
            "Converted /content/my_data/thumbnails/DJI_0329_512.jpg to save_tif_folder/DJI_0329_512.tif\n",
            "Converted /content/my_data/thumbnails/DJI_0336_512.jpg to save_tif_folder/DJI_0336_512.tif\n",
            "Converted /content/my_data/thumbnails/DJI_0312_512.jpg to save_tif_folder/DJI_0312_512.tif\n",
            "Conversion complete.\n"
          ]
        }
      ],
      "source": [
        "# Iterate over each JPG image file in the folder\n",
        "for filename in os.listdir(jpg_folder):\n",
        "    if filename.endswith(\".jpg\"):  # Process only JPG files\n",
        "        jpg_path = os.path.join(jpg_folder, filename)\n",
        "        tif_path = os.path.join(tif_folder, os.path.splitext(filename)[0] + '.tif')\n",
        "\n",
        "\n",
        "        img = Image.open(jpg_path)\n",
        "\n",
        "        # Convert and save as TIFF image\n",
        "        img.save(tif_path, format='TIFF')\n",
        "\n",
        "        print(f\"Converted {jpg_path} to {tif_path}\")\n",
        "\n",
        "print(\"Conversion complete.\")\n"
      ]
    },
    {
      "cell_type": "markdown",
      "source": [
        "#shap of my data that generate by pix4d app"
      ],
      "metadata": {
        "id": "_CvYMN1y5ds-"
      }
    },
    {
      "cell_type": "code",
      "execution_count": null,
      "metadata": {
        "colab": {
          "base_uri": "https://localhost:8080/"
        },
        "id": "cOIVWojnlZOr",
        "outputId": "7e3b4545-5ec8-4474-eb75-dd739fb7777c"
      },
      "outputs": [
        {
          "output_type": "stream",
          "name": "stdout",
          "text": [
            "Image: DJI_0286_512.tif, Band 1: None, Shape: (288, 512)\n",
            "Image: DJI_0286_512.tif, Band 2: None, Shape: (288, 512)\n",
            "Image: DJI_0286_512.tif, Band 3: None, Shape: (288, 512)\n",
            "Image: DJI_0326_512.tif, Band 1: None, Shape: (288, 512)\n",
            "Image: DJI_0326_512.tif, Band 2: None, Shape: (288, 512)\n",
            "Image: DJI_0326_512.tif, Band 3: None, Shape: (288, 512)\n",
            "Image: DJI_0367_512.tif, Band 1: None, Shape: (288, 512)\n",
            "Image: DJI_0367_512.tif, Band 2: None, Shape: (288, 512)\n",
            "Image: DJI_0367_512.tif, Band 3: None, Shape: (288, 512)\n",
            "Image: DJI_0370_512.tif, Band 1: None, Shape: (288, 512)\n",
            "Image: DJI_0370_512.tif, Band 2: None, Shape: (288, 512)\n",
            "Image: DJI_0370_512.tif, Band 3: None, Shape: (288, 512)\n",
            "Image: DJI_0305_512.tif, Band 1: None, Shape: (288, 512)\n",
            "Image: DJI_0305_512.tif, Band 2: None, Shape: (288, 512)\n",
            "Image: DJI_0305_512.tif, Band 3: None, Shape: (288, 512)\n",
            "Image: DJI_0310_512.tif, Band 1: None, Shape: (288, 512)\n",
            "Image: DJI_0310_512.tif, Band 2: None, Shape: (288, 512)\n",
            "Image: DJI_0310_512.tif, Band 3: None, Shape: (288, 512)\n",
            "Image: DJI_0317_512.tif, Band 1: None, Shape: (288, 512)\n",
            "Image: DJI_0317_512.tif, Band 2: None, Shape: (288, 512)\n",
            "Image: DJI_0317_512.tif, Band 3: None, Shape: (288, 512)\n",
            "Image: DJI_0304_512.tif, Band 1: None, Shape: (288, 512)\n",
            "Image: DJI_0304_512.tif, Band 2: None, Shape: (288, 512)\n",
            "Image: DJI_0304_512.tif, Band 3: None, Shape: (288, 512)\n",
            "Image: DJI_0281_512.tif, Band 1: None, Shape: (288, 512)\n",
            "Image: DJI_0281_512.tif, Band 2: None, Shape: (288, 512)\n",
            "Image: DJI_0281_512.tif, Band 3: None, Shape: (288, 512)\n",
            "Image: DJI_0342_512.tif, Band 1: None, Shape: (288, 512)\n",
            "Image: DJI_0342_512.tif, Band 2: None, Shape: (288, 512)\n",
            "Image: DJI_0342_512.tif, Band 3: None, Shape: (288, 512)\n",
            "Image: DJI_0361_512.tif, Band 1: None, Shape: (288, 512)\n",
            "Image: DJI_0361_512.tif, Band 2: None, Shape: (288, 512)\n",
            "Image: DJI_0361_512.tif, Band 3: None, Shape: (288, 512)\n",
            "Image: DJI_0325_512.tif, Band 1: None, Shape: (288, 512)\n",
            "Image: DJI_0325_512.tif, Band 2: None, Shape: (288, 512)\n",
            "Image: DJI_0325_512.tif, Band 3: None, Shape: (288, 512)\n",
            "Image: DJI_0294_512.tif, Band 1: None, Shape: (288, 512)\n",
            "Image: DJI_0294_512.tif, Band 2: None, Shape: (288, 512)\n",
            "Image: DJI_0294_512.tif, Band 3: None, Shape: (288, 512)\n",
            "Image: DJI_0329_512.tif, Band 1: None, Shape: (288, 512)\n",
            "Image: DJI_0329_512.tif, Band 2: None, Shape: (288, 512)\n",
            "Image: DJI_0329_512.tif, Band 3: None, Shape: (288, 512)\n",
            "Image: DJI_0290_512.tif, Band 1: None, Shape: (288, 512)\n",
            "Image: DJI_0290_512.tif, Band 2: None, Shape: (288, 512)\n",
            "Image: DJI_0290_512.tif, Band 3: None, Shape: (288, 512)\n",
            "Image: DJI_0366_512.tif, Band 1: None, Shape: (288, 512)\n",
            "Image: DJI_0366_512.tif, Band 2: None, Shape: (288, 512)\n",
            "Image: DJI_0366_512.tif, Band 3: None, Shape: (288, 512)\n",
            "Image: DJI_0301_512.tif, Band 1: None, Shape: (288, 512)\n",
            "Image: DJI_0301_512.tif, Band 2: None, Shape: (288, 512)\n",
            "Image: DJI_0301_512.tif, Band 3: None, Shape: (288, 512)\n",
            "Image: DJI_0278_512.tif, Band 1: None, Shape: (288, 512)\n",
            "Image: DJI_0278_512.tif, Band 2: None, Shape: (288, 512)\n",
            "Image: DJI_0278_512.tif, Band 3: None, Shape: (288, 512)\n",
            "Image: DJI_0351_512.tif, Band 1: None, Shape: (288, 512)\n",
            "Image: DJI_0351_512.tif, Band 2: None, Shape: (288, 512)\n",
            "Image: DJI_0351_512.tif, Band 3: None, Shape: (288, 512)\n",
            "Image: DJI_0331_512.tif, Band 1: None, Shape: (288, 512)\n",
            "Image: DJI_0331_512.tif, Band 2: None, Shape: (288, 512)\n",
            "Image: DJI_0331_512.tif, Band 3: None, Shape: (288, 512)\n",
            "Image: DJI_0284_512.tif, Band 1: None, Shape: (288, 512)\n",
            "Image: DJI_0284_512.tif, Band 2: None, Shape: (288, 512)\n",
            "Image: DJI_0284_512.tif, Band 3: None, Shape: (288, 512)\n",
            "Image: DJI_0280_512.tif, Band 1: None, Shape: (288, 512)\n",
            "Image: DJI_0280_512.tif, Band 2: None, Shape: (288, 512)\n",
            "Image: DJI_0280_512.tif, Band 3: None, Shape: (288, 512)\n",
            "Image: DJI_0312_512.tif, Band 1: None, Shape: (288, 512)\n",
            "Image: DJI_0312_512.tif, Band 2: None, Shape: (288, 512)\n",
            "Image: DJI_0312_512.tif, Band 3: None, Shape: (288, 512)\n",
            "Image: DJI_0285_512.tif, Band 1: None, Shape: (288, 512)\n",
            "Image: DJI_0285_512.tif, Band 2: None, Shape: (288, 512)\n",
            "Image: DJI_0285_512.tif, Band 3: None, Shape: (288, 512)\n",
            "Image: DJI_0292_512.tif, Band 1: None, Shape: (288, 512)\n",
            "Image: DJI_0292_512.tif, Band 2: None, Shape: (288, 512)\n",
            "Image: DJI_0292_512.tif, Band 3: None, Shape: (288, 512)\n",
            "Image: DJI_0349_512.tif, Band 1: None, Shape: (288, 512)\n",
            "Image: DJI_0349_512.tif, Band 2: None, Shape: (288, 512)\n",
            "Image: DJI_0349_512.tif, Band 3: None, Shape: (288, 512)\n",
            "Image: DJI_0341_512.tif, Band 1: None, Shape: (288, 512)\n",
            "Image: DJI_0341_512.tif, Band 2: None, Shape: (288, 512)\n",
            "Image: DJI_0341_512.tif, Band 3: None, Shape: (288, 512)\n",
            "Image: DJI_0379_512.tif, Band 1: None, Shape: (288, 512)\n",
            "Image: DJI_0379_512.tif, Band 2: None, Shape: (288, 512)\n",
            "Image: DJI_0379_512.tif, Band 3: None, Shape: (288, 512)\n",
            "Image: DJI_0335_512.tif, Band 1: None, Shape: (288, 512)\n",
            "Image: DJI_0335_512.tif, Band 2: None, Shape: (288, 512)\n",
            "Image: DJI_0335_512.tif, Band 3: None, Shape: (288, 512)\n",
            "Image: DJI_0353_512.tif, Band 1: None, Shape: (288, 512)\n",
            "Image: DJI_0353_512.tif, Band 2: None, Shape: (288, 512)\n",
            "Image: DJI_0353_512.tif, Band 3: None, Shape: (288, 512)\n",
            "Image: DJI_0300_512.tif, Band 1: None, Shape: (288, 512)\n",
            "Image: DJI_0300_512.tif, Band 2: None, Shape: (288, 512)\n",
            "Image: DJI_0300_512.tif, Band 3: None, Shape: (288, 512)\n",
            "Image: DJI_0297_512.tif, Band 1: None, Shape: (288, 512)\n",
            "Image: DJI_0297_512.tif, Band 2: None, Shape: (288, 512)\n",
            "Image: DJI_0297_512.tif, Band 3: None, Shape: (288, 512)\n"
          ]
        },
        {
          "output_type": "stream",
          "name": "stderr",
          "text": [
            "/usr/local/lib/python3.10/dist-packages/rasterio/__init__.py:304: NotGeoreferencedWarning: Dataset has no geotransform, gcps, or rpcs. The identity matrix will be returned.\n",
            "  dataset = DatasetReader(path, driver=driver, sharing=sharing, **kwargs)\n"
          ]
        },
        {
          "output_type": "stream",
          "name": "stdout",
          "text": [
            "Image: DJI_0303_512.tif, Band 1: None, Shape: (288, 512)\n",
            "Image: DJI_0303_512.tif, Band 2: None, Shape: (288, 512)\n",
            "Image: DJI_0303_512.tif, Band 3: None, Shape: (288, 512)\n",
            "Image: DJI_0307_512.tif, Band 1: None, Shape: (288, 512)\n",
            "Image: DJI_0307_512.tif, Band 2: None, Shape: (288, 512)\n",
            "Image: DJI_0307_512.tif, Band 3: None, Shape: (288, 512)\n",
            "Image: DJI_0299_512.tif, Band 1: None, Shape: (288, 512)\n",
            "Image: DJI_0299_512.tif, Band 2: None, Shape: (288, 512)\n",
            "Image: DJI_0299_512.tif, Band 3: None, Shape: (288, 512)\n",
            "Image: DJI_0295_512.tif, Band 1: None, Shape: (288, 512)\n",
            "Image: DJI_0295_512.tif, Band 2: None, Shape: (288, 512)\n",
            "Image: DJI_0295_512.tif, Band 3: None, Shape: (288, 512)\n",
            "Image: DJI_0334_512.tif, Band 1: None, Shape: (288, 512)\n",
            "Image: DJI_0334_512.tif, Band 2: None, Shape: (288, 512)\n",
            "Image: DJI_0334_512.tif, Band 3: None, Shape: (288, 512)\n",
            "Image: DJI_0350_512.tif, Band 1: None, Shape: (288, 512)\n",
            "Image: DJI_0350_512.tif, Band 2: None, Shape: (288, 512)\n",
            "Image: DJI_0350_512.tif, Band 3: None, Shape: (288, 512)\n",
            "Image: DJI_0375_512.tif, Band 1: None, Shape: (288, 512)\n",
            "Image: DJI_0375_512.tif, Band 2: None, Shape: (288, 512)\n",
            "Image: DJI_0375_512.tif, Band 3: None, Shape: (288, 512)\n",
            "Image: DJI_0302_512.tif, Band 1: None, Shape: (288, 512)\n",
            "Image: DJI_0302_512.tif, Band 2: None, Shape: (288, 512)\n",
            "Image: DJI_0302_512.tif, Band 3: None, Shape: (288, 512)\n",
            "Image: DJI_0336_512.tif, Band 1: None, Shape: (288, 512)\n",
            "Image: DJI_0336_512.tif, Band 2: None, Shape: (288, 512)\n",
            "Image: DJI_0336_512.tif, Band 3: None, Shape: (288, 512)\n",
            "Image: DJI_0371_512.tif, Band 1: None, Shape: (288, 512)\n",
            "Image: DJI_0371_512.tif, Band 2: None, Shape: (288, 512)\n",
            "Image: DJI_0371_512.tif, Band 3: None, Shape: (288, 512)\n",
            "Image: DJI_0381_512.tif, Band 1: None, Shape: (288, 512)\n",
            "Image: DJI_0381_512.tif, Band 2: None, Shape: (288, 512)\n",
            "Image: DJI_0381_512.tif, Band 3: None, Shape: (288, 512)\n",
            "Image: DJI_0347_512.tif, Band 1: None, Shape: (288, 512)\n",
            "Image: DJI_0347_512.tif, Band 2: None, Shape: (288, 512)\n",
            "Image: DJI_0347_512.tif, Band 3: None, Shape: (288, 512)\n",
            "Image: DJI_0314_512.tif, Band 1: None, Shape: (288, 512)\n",
            "Image: DJI_0314_512.tif, Band 2: None, Shape: (288, 512)\n",
            "Image: DJI_0314_512.tif, Band 3: None, Shape: (288, 512)\n",
            "Image: DJI_0346_512.tif, Band 1: None, Shape: (288, 512)\n",
            "Image: DJI_0346_512.tif, Band 2: None, Shape: (288, 512)\n",
            "Image: DJI_0346_512.tif, Band 3: None, Shape: (288, 512)\n",
            "Image: DJI_0320_512.tif, Band 1: None, Shape: (288, 512)\n",
            "Image: DJI_0320_512.tif, Band 2: None, Shape: (288, 512)\n",
            "Image: DJI_0320_512.tif, Band 3: None, Shape: (288, 512)\n",
            "Image: DJI_0282_512.tif, Band 1: None, Shape: (288, 512)\n",
            "Image: DJI_0282_512.tif, Band 2: None, Shape: (288, 512)\n",
            "Image: DJI_0282_512.tif, Band 3: None, Shape: (288, 512)\n",
            "Image: DJI_0313_512.tif, Band 1: None, Shape: (288, 512)\n",
            "Image: DJI_0313_512.tif, Band 2: None, Shape: (288, 512)\n",
            "Image: DJI_0313_512.tif, Band 3: None, Shape: (288, 512)\n",
            "Image: DJI_0338_512.tif, Band 1: None, Shape: (288, 512)\n",
            "Image: DJI_0338_512.tif, Band 2: None, Shape: (288, 512)\n",
            "Image: DJI_0338_512.tif, Band 3: None, Shape: (288, 512)\n",
            "Image: DJI_0283_512.tif, Band 1: None, Shape: (288, 512)\n",
            "Image: DJI_0283_512.tif, Band 2: None, Shape: (288, 512)\n",
            "Image: DJI_0283_512.tif, Band 3: None, Shape: (288, 512)\n",
            "Image: DJI_0360_512.tif, Band 1: None, Shape: (288, 512)\n",
            "Image: DJI_0360_512.tif, Band 2: None, Shape: (288, 512)\n",
            "Image: DJI_0360_512.tif, Band 3: None, Shape: (288, 512)\n",
            "Image: DJI_0354_512.tif, Band 1: None, Shape: (288, 512)\n",
            "Image: DJI_0354_512.tif, Band 2: None, Shape: (288, 512)\n",
            "Image: DJI_0354_512.tif, Band 3: None, Shape: (288, 512)\n",
            "Image: DJI_0345_512.tif, Band 1: None, Shape: (288, 512)\n",
            "Image: DJI_0345_512.tif, Band 2: None, Shape: (288, 512)\n",
            "Image: DJI_0345_512.tif, Band 3: None, Shape: (288, 512)\n",
            "Image: DJI_0357_512.tif, Band 1: None, Shape: (288, 512)\n",
            "Image: DJI_0357_512.tif, Band 2: None, Shape: (288, 512)\n",
            "Image: DJI_0357_512.tif, Band 3: None, Shape: (288, 512)\n",
            "Image: DJI_0362_512.tif, Band 1: None, Shape: (288, 512)\n",
            "Image: DJI_0362_512.tif, Band 2: None, Shape: (288, 512)\n",
            "Image: DJI_0362_512.tif, Band 3: None, Shape: (288, 512)\n",
            "Image: DJI_0288_512.tif, Band 1: None, Shape: (288, 512)\n",
            "Image: DJI_0288_512.tif, Band 2: None, Shape: (288, 512)\n",
            "Image: DJI_0288_512.tif, Band 3: None, Shape: (288, 512)\n",
            "Image: DJI_0289_512.tif, Band 1: None, Shape: (288, 512)\n",
            "Image: DJI_0289_512.tif, Band 2: None, Shape: (288, 512)\n",
            "Image: DJI_0289_512.tif, Band 3: None, Shape: (288, 512)\n",
            "Image: DJI_0298_512.tif, Band 1: None, Shape: (288, 512)\n",
            "Image: DJI_0298_512.tif, Band 2: None, Shape: (288, 512)\n",
            "Image: DJI_0298_512.tif, Band 3: None, Shape: (288, 512)\n",
            "Image: DJI_0332_512.tif, Band 1: None, Shape: (288, 512)\n",
            "Image: DJI_0332_512.tif, Band 2: None, Shape: (288, 512)\n",
            "Image: DJI_0332_512.tif, Band 3: None, Shape: (288, 512)\n",
            "Image: DJI_0309_512.tif, Band 1: None, Shape: (288, 512)\n",
            "Image: DJI_0309_512.tif, Band 2: None, Shape: (288, 512)\n",
            "Image: DJI_0309_512.tif, Band 3: None, Shape: (288, 512)\n",
            "Image: DJI_0316_512.tif, Band 1: None, Shape: (288, 512)\n",
            "Image: DJI_0316_512.tif, Band 2: None, Shape: (288, 512)\n",
            "Image: DJI_0316_512.tif, Band 3: None, Shape: (288, 512)\n",
            "Image: DJI_0318_512.tif, Band 1: None, Shape: (288, 512)\n",
            "Image: DJI_0318_512.tif, Band 2: None, Shape: (288, 512)\n",
            "Image: DJI_0318_512.tif, Band 3: None, Shape: (288, 512)\n",
            "Image: DJI_0324_512.tif, Band 1: None, Shape: (288, 512)\n",
            "Image: DJI_0324_512.tif, Band 2: None, Shape: (288, 512)\n",
            "Image: DJI_0324_512.tif, Band 3: None, Shape: (288, 512)\n",
            "Image: DJI_0308_512.tif, Band 1: None, Shape: (288, 512)\n",
            "Image: DJI_0308_512.tif, Band 2: None, Shape: (288, 512)\n",
            "Image: DJI_0308_512.tif, Band 3: None, Shape: (288, 512)\n",
            "Image: DJI_0377_512.tif, Band 1: None, Shape: (288, 512)\n",
            "Image: DJI_0377_512.tif, Band 2: None, Shape: (288, 512)\n",
            "Image: DJI_0377_512.tif, Band 3: None, Shape: (288, 512)\n",
            "Image: DJI_0291_512.tif, Band 1: None, Shape: (288, 512)\n",
            "Image: DJI_0291_512.tif, Band 2: None, Shape: (288, 512)\n",
            "Image: DJI_0291_512.tif, Band 3: None, Shape: (288, 512)\n",
            "Image: DJI_0359_512.tif, Band 1: None, Shape: (288, 512)\n",
            "Image: DJI_0359_512.tif, Band 2: None, Shape: (288, 512)\n",
            "Image: DJI_0359_512.tif, Band 3: None, Shape: (288, 512)\n",
            "Image: DJI_0321_512.tif, Band 1: None, Shape: (288, 512)\n",
            "Image: DJI_0321_512.tif, Band 2: None, Shape: (288, 512)\n",
            "Image: DJI_0321_512.tif, Band 3: None, Shape: (288, 512)\n",
            "Image: DJI_0328_512.tif, Band 1: None, Shape: (288, 512)\n",
            "Image: DJI_0328_512.tif, Band 2: None, Shape: (288, 512)\n",
            "Image: DJI_0328_512.tif, Band 3: None, Shape: (288, 512)\n",
            "Image: DJI_0279_512.tif, Band 1: None, Shape: (288, 512)\n",
            "Image: DJI_0279_512.tif, Band 2: None, Shape: (288, 512)\n",
            "Image: DJI_0279_512.tif, Band 3: None, Shape: (288, 512)\n",
            "Image: DJI_0374_512.tif, Band 1: None, Shape: (288, 512)\n",
            "Image: DJI_0374_512.tif, Band 2: None, Shape: (288, 512)\n",
            "Image: DJI_0374_512.tif, Band 3: None, Shape: (288, 512)\n",
            "Image: DJI_0343_512.tif, Band 1: None, Shape: (288, 512)\n",
            "Image: DJI_0343_512.tif, Band 2: None, Shape: (288, 512)\n",
            "Image: DJI_0343_512.tif, Band 3: None, Shape: (288, 512)\n",
            "Image: DJI_0355_512.tif, Band 1: None, Shape: (288, 512)\n",
            "Image: DJI_0355_512.tif, Band 2: None, Shape: (288, 512)\n",
            "Image: DJI_0355_512.tif, Band 3: None, Shape: (288, 512)\n",
            "Image: DJI_0363_512.tif, Band 1: None, Shape: (288, 512)\n",
            "Image: DJI_0363_512.tif, Band 2: None, Shape: (288, 512)\n",
            "Image: DJI_0363_512.tif, Band 3: None, Shape: (288, 512)\n",
            "Image: DJI_0376_512.tif, Band 1: None, Shape: (288, 512)\n",
            "Image: DJI_0376_512.tif, Band 2: None, Shape: (288, 512)\n",
            "Image: DJI_0376_512.tif, Band 3: None, Shape: (288, 512)\n",
            "Image: DJI_0319_512.tif, Band 1: None, Shape: (288, 512)\n",
            "Image: DJI_0319_512.tif, Band 2: None, Shape: (288, 512)\n",
            "Image: DJI_0319_512.tif, Band 3: None, Shape: (288, 512)\n",
            "Image: DJI_0315_512.tif, Band 1: None, Shape: (288, 512)\n",
            "Image: DJI_0315_512.tif, Band 2: None, Shape: (288, 512)\n",
            "Image: DJI_0315_512.tif, Band 3: None, Shape: (288, 512)\n",
            "Image: DJI_0296_512.tif, Band 1: None, Shape: (288, 512)\n",
            "Image: DJI_0296_512.tif, Band 2: None, Shape: (288, 512)\n",
            "Image: DJI_0296_512.tif, Band 3: None, Shape: (288, 512)\n",
            "Image: DJI_0323_512.tif, Band 1: None, Shape: (288, 512)\n",
            "Image: DJI_0323_512.tif, Band 2: None, Shape: (288, 512)\n",
            "Image: DJI_0323_512.tif, Band 3: None, Shape: (288, 512)\n",
            "Image: DJI_0344_512.tif, Band 1: None, Shape: (288, 512)\n",
            "Image: DJI_0344_512.tif, Band 2: None, Shape: (288, 512)\n",
            "Image: DJI_0344_512.tif, Band 3: None, Shape: (288, 512)\n",
            "Image: DJI_0330_512.tif, Band 1: None, Shape: (288, 512)\n",
            "Image: DJI_0330_512.tif, Band 2: None, Shape: (288, 512)\n",
            "Image: DJI_0330_512.tif, Band 3: None, Shape: (288, 512)\n",
            "Image: DJI_0365_512.tif, Band 1: None, Shape: (288, 512)\n",
            "Image: DJI_0365_512.tif, Band 2: None, Shape: (288, 512)\n",
            "Image: DJI_0365_512.tif, Band 3: None, Shape: (288, 512)\n",
            "Image: DJI_0293_512.tif, Band 1: None, Shape: (288, 512)\n",
            "Image: DJI_0293_512.tif, Band 2: None, Shape: (288, 512)\n",
            "Image: DJI_0293_512.tif, Band 3: None, Shape: (288, 512)\n",
            "Image: DJI_0358_512.tif, Band 1: None, Shape: (288, 512)\n",
            "Image: DJI_0358_512.tif, Band 2: None, Shape: (288, 512)\n",
            "Image: DJI_0358_512.tif, Band 3: None, Shape: (288, 512)\n",
            "Image: DJI_0356_512.tif, Band 1: None, Shape: (288, 512)\n",
            "Image: DJI_0356_512.tif, Band 2: None, Shape: (288, 512)\n",
            "Image: DJI_0356_512.tif, Band 3: None, Shape: (288, 512)\n",
            "Image: DJI_0352_512.tif, Band 1: None, Shape: (288, 512)\n",
            "Image: DJI_0352_512.tif, Band 2: None, Shape: (288, 512)\n",
            "Image: DJI_0352_512.tif, Band 3: None, Shape: (288, 512)\n",
            "Image: DJI_0337_512.tif, Band 1: None, Shape: (288, 512)\n",
            "Image: DJI_0337_512.tif, Band 2: None, Shape: (288, 512)\n",
            "Image: DJI_0337_512.tif, Band 3: None, Shape: (288, 512)\n",
            "Image: DJI_0378_512.tif, Band 1: None, Shape: (288, 512)\n",
            "Image: DJI_0378_512.tif, Band 2: None, Shape: (288, 512)\n",
            "Image: DJI_0378_512.tif, Band 3: None, Shape: (288, 512)\n",
            "Image: DJI_0372_512.tif, Band 1: None, Shape: (288, 512)\n",
            "Image: DJI_0372_512.tif, Band 2: None, Shape: (288, 512)\n",
            "Image: DJI_0372_512.tif, Band 3: None, Shape: (288, 512)\n",
            "Image: DJI_0380_512.tif, Band 1: None, Shape: (288, 512)\n",
            "Image: DJI_0380_512.tif, Band 2: None, Shape: (288, 512)\n",
            "Image: DJI_0380_512.tif, Band 3: None, Shape: (288, 512)\n",
            "Image: DJI_0322_512.tif, Band 1: None, Shape: (288, 512)\n",
            "Image: DJI_0322_512.tif, Band 2: None, Shape: (288, 512)\n",
            "Image: DJI_0322_512.tif, Band 3: None, Shape: (288, 512)\n",
            "Image: DJI_0311_512.tif, Band 1: None, Shape: (288, 512)\n",
            "Image: DJI_0311_512.tif, Band 2: None, Shape: (288, 512)\n",
            "Image: DJI_0311_512.tif, Band 3: None, Shape: (288, 512)\n",
            "Image: DJI_0369_512.tif, Band 1: None, Shape: (288, 512)\n",
            "Image: DJI_0369_512.tif, Band 2: None, Shape: (288, 512)\n",
            "Image: DJI_0369_512.tif, Band 3: None, Shape: (288, 512)\n",
            "Image: DJI_0368_512.tif, Band 1: None, Shape: (288, 512)\n",
            "Image: DJI_0368_512.tif, Band 2: None, Shape: (288, 512)\n",
            "Image: DJI_0368_512.tif, Band 3: None, Shape: (288, 512)\n",
            "Image: DJI_0348_512.tif, Band 1: None, Shape: (288, 512)\n",
            "Image: DJI_0348_512.tif, Band 2: None, Shape: (288, 512)\n",
            "Image: DJI_0348_512.tif, Band 3: None, Shape: (288, 512)\n",
            "Image: DJI_0333_512.tif, Band 1: None, Shape: (288, 512)\n",
            "Image: DJI_0333_512.tif, Band 2: None, Shape: (288, 512)\n",
            "Image: DJI_0333_512.tif, Band 3: None, Shape: (288, 512)\n",
            "Image: DJI_0373_512.tif, Band 1: None, Shape: (288, 512)\n",
            "Image: DJI_0373_512.tif, Band 2: None, Shape: (288, 512)\n",
            "Image: DJI_0373_512.tif, Band 3: None, Shape: (288, 512)\n",
            "Image: DJI_0327_512.tif, Band 1: None, Shape: (288, 512)\n",
            "Image: DJI_0327_512.tif, Band 2: None, Shape: (288, 512)\n",
            "Image: DJI_0327_512.tif, Band 3: None, Shape: (288, 512)\n",
            "Image: DJI_0287_512.tif, Band 1: None, Shape: (288, 512)\n",
            "Image: DJI_0287_512.tif, Band 2: None, Shape: (288, 512)\n",
            "Image: DJI_0287_512.tif, Band 3: None, Shape: (288, 512)\n",
            "Image: DJI_0306_512.tif, Band 1: None, Shape: (288, 512)\n",
            "Image: DJI_0306_512.tif, Band 2: None, Shape: (288, 512)\n",
            "Image: DJI_0306_512.tif, Band 3: None, Shape: (288, 512)\n",
            "Image: DJI_0340_512.tif, Band 1: None, Shape: (288, 512)\n",
            "Image: DJI_0340_512.tif, Band 2: None, Shape: (288, 512)\n",
            "Image: DJI_0340_512.tif, Band 3: None, Shape: (288, 512)\n",
            "Image: DJI_0364_512.tif, Band 1: None, Shape: (288, 512)\n",
            "Image: DJI_0364_512.tif, Band 2: None, Shape: (288, 512)\n",
            "Image: DJI_0364_512.tif, Band 3: None, Shape: (288, 512)\n",
            "Image: DJI_0339_512.tif, Band 1: None, Shape: (288, 512)\n",
            "Image: DJI_0339_512.tif, Band 2: None, Shape: (288, 512)\n",
            "Image: DJI_0339_512.tif, Band 3: None, Shape: (288, 512)\n",
            "Image: DJI_0277_512.tif, Band 1: None, Shape: (288, 512)\n",
            "Image: DJI_0277_512.tif, Band 2: None, Shape: (288, 512)\n",
            "Image: DJI_0277_512.tif, Band 3: None, Shape: (288, 512)\n"
          ]
        }
      ],
      "source": [
        "# Directory containing TIF images with the required bands\n",
        "tif_folder = '/content/save_tif_folder'\n",
        "\n",
        "# Iterate over each TIFF image file in the folder\n",
        "for filename in os.listdir(tif_folder):\n",
        "    if filename.endswith(\".tif\"):  # Process only TIFF files\n",
        "        image_path = os.path.join(tif_folder, filename)\n",
        "\n",
        "        with rasterio.open(image_path) as src:\n",
        "            # Print band information\n",
        "            for band_idx in range(1, src.count + 1):\n",
        "                band = src.read(band_idx)\n",
        "                band_desc = src.descriptions[band_idx - 1] if src.descriptions else f\"Band {band_idx}\"\n",
        "                print(f\"Image: {filename}, Band {band_idx}: {band_desc}, Shape: {band.shape}\")\n"
      ]
    },
    {
      "cell_type": "markdown",
      "source": [
        "#calculate NDVI to one image."
      ],
      "metadata": {
        "id": "enKV2DxN6TpX"
      }
    },
    {
      "cell_type": "code",
      "source": [
        "import numpy as np\n",
        "import matplotlib.pyplot as plt"
      ],
      "metadata": {
        "id": "Fhi1Hbme50NC"
      },
      "execution_count": 8,
      "outputs": []
    },
    {
      "cell_type": "code",
      "source": [
        "# Specify the path to your Pix4D orthomosaic (TIFF format)\n",
        "raster_path = '/content/orthomosaic-preview.tif'"
      ],
      "metadata": {
        "id": "MQu_ffOr50CX"
      },
      "execution_count": null,
      "outputs": []
    },
    {
      "cell_type": "code",
      "execution_count": null,
      "metadata": {
        "colab": {
          "base_uri": "https://localhost:8080/",
          "height": 611
        },
        "id": "HUbMbWxD1mSl",
        "outputId": "d052255c-6cb3-4d23-b552-4a66e9b7b196"
      },
      "outputs": [
        {
          "output_type": "stream",
          "name": "stdout",
          "text": [
            "NDVI Statistics:\n",
            "Min: -1.0\n"
          ]
        },
        {
          "output_type": "stream",
          "name": "stderr",
          "text": [
            "<ipython-input-42-dc5a47e4959f>:11: RuntimeWarning: invalid value encountered in divide\n",
            "  ndvi = (nir_band - red_band) / (nir_band + red_band)\n",
            "/usr/local/lib/python3.10/dist-packages/rasterio/__init__.py:314: NotGeoreferencedWarning: The given matrix is equal to Affine.identity or its flipped counterpart. GDAL may ignore this matrix and save no geotransform without raising an error. This behavior is somewhat driver-specific.\n",
            "  dataset = writer(\n"
          ]
        },
        {
          "output_type": "stream",
          "name": "stdout",
          "text": [
            "Max: 0.4\n",
            "Mean: -0.15417016\n"
          ]
        },
        {
          "output_type": "display_data",
          "data": {
            "text/plain": [
              "<Figure size 640x480 with 2 Axes>"
            ],
            "image/png": "[encoded data removed]"
          },
          "metadata": {}
        }
      ],
      "source": [
        "with rasterio.open(raster_path) as src:\n",
        "    #band index\n",
        "    red_band_index = 2\n",
        "    nir_band_index = 3\n",
        "\n",
        "    red_band = src.read(red_band_index).astype(np.float32)\n",
        "    nir_band = src.read(nir_band_index).astype(np.float32)\n",
        "\n",
        "    # Calculate NDVI\n",
        "    ndvi = (nir_band - red_band) / (nir_band + red_band)\n",
        "\n",
        "    # Display the NDVI statistics\n",
        "    print(\"NDVI Statistics:\")\n",
        "    print(\"Min:\", np.nanmin(ndvi))\n",
        "    print(\"Max:\", np.nanmax(ndvi))\n",
        "    print(\"Mean:\", np.nanmean(ndvi))\n",
        "\n",
        "    # I Create a new raster file for the NDVI result\n",
        "    ndvi_profile = src.profile\n",
        "    ndvi_profile['dtype'] = 'float32'\n",
        "    ndvi_profile['count'] = 1  # Only one band for NDVI\n",
        "\n",
        "    # I Specify the path for the NDVI raster file\n",
        "    ndvi_path = 'ndvi_result.tif'\n",
        "\n",
        "    with rasterio.open(ndvi_path, 'w', **ndvi_profile) as dst:\n",
        "        dst.write(ndvi, 1)  #I Write the NDVI array to the new raster file\n",
        "\n",
        "    # I Visualized the NDVI raster\n",
        "    plt.imshow(ndvi, cmap='RdYlGn', vmin=-1, vmax=1)  # Set colormap limits for NDVI range\n",
        "    plt.colorbar(label='NDVI')\n",
        "    plt.title('Normalized Difference Vegetation Index')\n",
        "    plt.show()\n"
      ]
    },
    {
      "cell_type": "markdown",
      "source": [
        "#I calculate NBVI to all my data and I save them in a csv file ."
      ],
      "metadata": {
        "id": "D0bU7E4m6fb_"
      }
    },
    {
      "cell_type": "code",
      "source": [
        "import pandas as pd"
      ],
      "metadata": {
        "id": "-NAHkU7d6eeo"
      },
      "execution_count": 9,
      "outputs": []
    },
    {
      "cell_type": "code",
      "source": [
        "# Directory containing TIFF images with the required bands\n",
        "image_folder = '/content/save_tif_folder'\n",
        "\n",
        "# List to store NDVI values and image filenames\n",
        "ndvi_values = []\n",
        "gndvi_values = []\n",
        "image_filenames = []\n"
      ],
      "metadata": {
        "id": "Vh5ICB4t6eaM"
      },
      "execution_count": 10,
      "outputs": []
    },
    {
      "cell_type": "markdown",
      "source": [],
      "metadata": {
        "id": "1b_kl3au69Vo"
      }
    },
    {
      "cell_type": "code",
      "source": [
        "# Iterate over each image file in the folder\n",
        "for filename in os.listdir(image_folder):\n",
        "    if filename.endswith(\".tif\"):  # Process only TIFF files\n",
        "        image_path = os.path.join(image_folder, filename)\n",
        "\n",
        "        with rasterio.open(image_path) as src:\n",
        "            # I have identified the correct band indices\n",
        "            red_band_index = 1\n",
        "            gre_band_index = 2\n",
        "            nir_band_index = 3\n",
        "\n",
        "            red_band = src.read(red_band_index).astype(np.float32)\n",
        "            gre_band = src.read(gre_band_index).astype(np.float32)\n",
        "            nir_band = src.read(nir_band_index).astype(np.float32)\n",
        "\n",
        "            # Calculate NDVI\n",
        "            ndvi = (nir_band - red_band) / (nir_band + red_band)\n",
        "\n",
        "            gndvi = (nir_band - gre_band ) / (nir_band + gre_band )\n",
        "\n",
        "            # Append NDVI mean value and image filename to the lists\n",
        "            ndvi_values.append(np.nanmean(ndvi))\n",
        "            gndvi_values.append(np.nanmean(gndvi))\n",
        "            image_filenames.append(filename)\n",
        "\n",
        "            # # Visualize the NDVI raster\n",
        "            # plt.imshow(ndvi, cmap='RdYlGn', vmin=-1, vmax=1)  # Set colormap limits for NDVI range\n",
        "            # plt.colorbar(label='NDVI')\n",
        "            # plt.title('Normalized Difference Vegetation Index')\n",
        "            # plt.show()"
      ],
      "metadata": {
        "colab": {
          "base_uri": "https://localhost:8080/"
        },
        "id": "nowkYfe768xU",
        "outputId": "8485521c-a97b-4c40-9dd7-3628f5846beb"
      },
      "execution_count": 11,
      "outputs": [
        {
          "output_type": "stream",
          "name": "stderr",
          "text": [
            "/usr/local/lib/python3.10/dist-packages/rasterio/__init__.py:304: NotGeoreferencedWarning: Dataset has no geotransform, gcps, or rpcs. The identity matrix will be returned.\n",
            "  dataset = DatasetReader(path, driver=driver, sharing=sharing, **kwargs)\n",
            "<ipython-input-11-655f1d442d0b>:19: RuntimeWarning: invalid value encountered in divide\n",
            "  gndvi = (nir_band - gre_band ) / (nir_band + gre_band )\n",
            "<ipython-input-11-655f1d442d0b>:17: RuntimeWarning: invalid value encountered in divide\n",
            "  ndvi = (nir_band - red_band) / (nir_band + red_band)\n"
          ]
        }
      ]
    },
    {
      "cell_type": "code",
      "source": [
        "# Create a DataFrame to hold the NDVI values and image filenames\n",
        "data = {'ImageFile': image_filenames, 'NDVI': ndvi_values, 'GNDVI': gndvi_values}\n",
        "df = pd.DataFrame(data)"
      ],
      "metadata": {
        "id": "j4xlBelL7E6M"
      },
      "execution_count": 12,
      "outputs": []
    },
    {
      "cell_type": "code",
      "execution_count": 14,
      "metadata": {
        "colab": {
          "base_uri": "https://localhost:8080/"
        },
        "id": "jHBeCKyc2ax-",
        "outputId": "578ca606-88e3-431c-b813-781f362d0f8d"
      },
      "outputs": [
        {
          "output_type": "stream",
          "name": "stdout",
          "text": [
            "NDVI values have been saved to ndvi_and_gndvi_results.csv\n"
          ]
        }
      ],
      "source": [
        "# Save the DataFrame to a CSV file\n",
        "csv_filename = 'ndvi_and_gndvi_results.csv'\n",
        "df.to_csv(csv_filename, index=False)\n",
        "\n",
        "print(f\"NDVI values have been saved to {csv_filename}\")\n"
      ]
    },
    {
      "cell_type": "code",
      "source": [
        "import os\n",
        "from PIL import Image\n",
        "\n",
        "# Folder path containing the TIFF images\n",
        "folder_path = \"/content/save_tif_folder\"\n",
        "\n",
        "# Desired resolution\n",
        "desired_resolution = 13  # in cm/pixel\n",
        "\n",
        "# Loop through each file in the folder\n",
        "for filename in os.listdir(folder_path):\n",
        "    if filename.endswith(\".tif\"):\n",
        "        # Open the TIFF image\n",
        "        image_path = os.path.join(folder_path, filename)\n",
        "        original_image = Image.open(image_path)\n",
        "\n",
        "        # Calculate new dimensions based on the desired resolution\n",
        "        new_width = int(original_image.width * desired_resolution)\n",
        "        new_height = int(original_image.height * desired_resolution)\n",
        "\n",
        "        # Resize the image\n",
        "        resized_image = original_image.resize((new_width, new_height), Image.ANTIALIAS)\n",
        "\n",
        "        # Save the resized image\n",
        "        resized_filename = \"resized_\" + filename\n",
        "        resized_image.save(os.path.join(folder_path, resized_filename), compression=\"tiff_deflate\")\n",
        "\n",
        "print(\"Images resized and saved successfully.\")\n"
      ],
      "metadata": {
        "colab": {
          "base_uri": "https://localhost:8080/"
        },
        "id": "sY-3BOx6fSlO",
        "outputId": "bec4f951-aa9f-430f-8785-ba508c781155"
      },
      "execution_count": 5,
      "outputs": [
        {
          "output_type": "stream",
          "name": "stderr",
          "text": [
            "<ipython-input-5-9cb0ac8d9ea8>:22: DeprecationWarning: ANTIALIAS is deprecated and will be removed in Pillow 10 (2023-07-01). Use LANCZOS or Resampling.LANCZOS instead.\n",
            "  resized_image = original_image.resize((new_width, new_height), Image.ANTIALIAS)\n"
          ]
        },
        {
          "output_type": "stream",
          "name": "stdout",
          "text": [
            "Images resized and saved successfully.\n"
          ]
        }
      ]
    },
    {
      "cell_type": "code",
      "source": [
        "from PIL import Image\n",
        "import os\n",
        "\n",
        "# Source folder containing TIFF images\n",
        "source_folder = \"/content/save_tif_folder\"\n",
        "\n",
        "# Target folder to save JPG images\n",
        "target_folder = \"folder_image_jpg\"\n",
        "\n",
        "# Set patch size (width and height)\n",
        "patch_size = 256\n",
        "\n",
        "# Create the target folder if it doesn't exist\n",
        "if not os.path.exists(target_folder):\n",
        "    os.makedirs(target_folder)\n",
        "\n",
        "# Loop through TIFF images in the source folder\n",
        "for filename in os.listdir(source_folder):\n",
        "    if filename.endswith(\".tif\"):\n",
        "        tiff_image_path = os.path.join(source_folder, filename)\n",
        "        tiff_image = Image.open(tiff_image_path)\n",
        "\n",
        "        # Loop through the image to create patches\n",
        "        for y in range(0, tiff_image.height, patch_size):\n",
        "            for x in range(0, tiff_image.width, patch_size):\n",
        "                patch = tiff_image.crop((x, y, x + patch_size, y + patch_size))\n",
        "                patch_filename = f\"{os.path.splitext(filename)[0]}_{x}_{y}.jpg\"\n",
        "                patch_path = os.path.join(target_folder, patch_filename)\n",
        "\n",
        "                # Convert and save the patch as JPG\n",
        "                patch.save(patch_path, format=\"jpeg\", quality=95)\n",
        "\n",
        "print(\"Patches created and converted successfully.\")\n"
      ],
      "metadata": {
        "colab": {
          "base_uri": "https://localhost:8080/"
        },
        "id": "l2oZ3bOxjo5-",
        "outputId": "bbddbda2-0e86-480f-8384-26fe6ea0b92a"
      },
      "execution_count": 16,
      "outputs": [
        {
          "output_type": "stream",
          "name": "stdout",
          "text": [
            "Patches created and converted successfully.\n"
          ]
        }
      ]
    },
    {
      "cell_type": "code",
      "source": [
        "import cv2\n",
        "import numpy as np\n",
        "\n",
        "def segment_tree_crown_and_shadow(image_patch):\n",
        "    # Convert the patch to the HSV color space\n",
        "    hsv_image = cv2.cvtColor(image_patch, cv2.COLOR_BGR2HSV)\n",
        "\n",
        "    # Define color ranges for tree crowns and shadows (adjust these values)\n",
        "    lower_crown = np.array([40, 40, 40])\n",
        "    upper_crown = np.array([80, 255, 255])\n",
        "\n",
        "    lower_shadow = np.array([0, 0, 0])\n",
        "    upper_shadow = np.array([40, 255, 50])\n",
        "\n",
        "    # Create masks based on color ranges\n",
        "    crown_mask = cv2.inRange(hsv_image, lower_crown, upper_crown)\n",
        "    shadow_mask = cv2.inRange(hsv_image, lower_shadow, upper_shadow)\n",
        "\n",
        "    # Apply morphological operations to refine masks\n",
        "    kernel = np.ones((5, 5), np.uint8)\n",
        "    crown_mask = cv2.morphologyEx(crown_mask, cv2.MORPH_CLOSE, kernel)\n",
        "    shadow_mask = cv2.morphologyEx(shadow_mask, cv2.MORPH_CLOSE, kernel)\n",
        "\n",
        "    return crown_mask, shadow_mask\n",
        "\n",
        "# # Example usage:\n",
        "# image_patch = cv2.imread(\"/content/my_data/thumbnails/DJI_0277_512.jpg\")\n",
        "# crown_mask, shadow_mask = segment_tree_crown_and_shadow(image_patch)\n",
        "\n",
        "# # Display the segmented masks (optional)\n",
        "# cv2.imshow(\"Crown Mask\", crown_mask)\n",
        "# cv2.imshow(\"Shadow Mask\", shadow_mask)\n",
        "# cv2.waitKey(0)\n",
        "# cv2.destroyAllWindows()\n"
      ],
      "metadata": {
        "id": "pD9ss_stn5Ui"
      },
      "execution_count": 18,
      "outputs": []
    },
    {
      "cell_type": "code",
      "source": [
        "import os\n",
        "import cv2\n",
        "import json\n",
        "import numpy as np\n",
        "\n",
        "def segment_tree_crown_and_shadow(image_patch):\n",
        "    # Convert the patch to the HSV color space\n",
        "    hsv_image = cv2.cvtColor(image_patch, cv2.COLOR_BGR2HSV)\n",
        "\n",
        "    # Define color ranges for tree crowns and shadows (adjust these values)\n",
        "    lower_crown = np.array([40, 40, 40])\n",
        "    upper_crown = np.array([80, 255, 255])\n",
        "\n",
        "    lower_shadow = np.array([0, 0, 0])\n",
        "    upper_shadow = np.array([40, 255, 50])\n",
        "\n",
        "    # Create masks based on color ranges\n",
        "    crown_mask = cv2.inRange(hsv_image, lower_crown, upper_crown)\n",
        "    shadow_mask = cv2.inRange(hsv_image, lower_shadow, upper_shadow)\n",
        "\n",
        "    # Apply morphological operations to refine masks\n",
        "    kernel = np.ones((5, 5), np.uint8)\n",
        "    crown_mask = cv2.morphologyEx(crown_mask, cv2.MORPH_CLOSE, kernel)\n",
        "    shadow_mask = cv2.morphologyEx(shadow_mask, cv2.MORPH_CLOSE, kernel)\n",
        "\n",
        "    return crown_mask, shadow_mask\n",
        "\n",
        "# Source folder containing TIFF images\n",
        "source_folder = \"/content/save_tif_folder\"\n",
        "target_folder = \"target_folder_json\"\n",
        "\n",
        "# Set patch size (width and height)\n",
        "patch_size = 256\n",
        "\n",
        "# Create the target folder if it doesn't exist\n",
        "if not os.path.exists(target_folder):\n",
        "    os.makedirs(target_folder)\n",
        "\n",
        "# Loop through TIFF images in the source folder\n",
        "for filename in os.listdir(source_folder):\n",
        "    if filename.endswith(\".tif\"):\n",
        "        tiff_image_path = os.path.join(source_folder, filename)\n",
        "        tiff_image = cv2.imread(tiff_image_path)\n",
        "\n",
        "        # Loop through the image to create patches\n",
        "        for y in range(0, tiff_image.shape[0], patch_size):\n",
        "            for x in range(0, tiff_image.shape[1], patch_size):\n",
        "                patch = tiff_image[y:y + patch_size, x:x + patch_size]\n",
        "                patch_filename = f\"{os.path.splitext(filename)[0]}_{x}_{y}.jpg\"\n",
        "                patch_path = os.path.join(target_folder, patch_filename)\n",
        "\n",
        "                # Convert and save the patch as JPG\n",
        "                cv2.imwrite(patch_path, patch)\n",
        "\n",
        "                # Perform tree crown and shadow segmentation on the patch\n",
        "                crown_mask, shadow_mask = segment_tree_crown_and_shadow(patch)\n",
        "\n",
        "                # Create JSON data for annotation\n",
        "                annotation_data = {\n",
        "                    \"patch_name\": patch_filename,\n",
        "                    \"crown_mask\": crown_mask.tolist(),\n",
        "                    \"shadow_mask\": shadow_mask.tolist()\n",
        "                }\n",
        "\n",
        "                # Save annotation data in JSON file\n",
        "                json_path = os.path.join(target_folder, f\"{os.path.splitext(filename)[0]}_{x}_{y}.json\")\n",
        "                with open(json_path, \"w\") as json_file:\n",
        "                    json.dump(annotation_data, json_file)\n",
        "\n",
        "print(\"Patches created, segmented, and annotated successfully.\")\n"
      ],
      "metadata": {
        "id": "PkO_Sb3azikj"
      },
      "execution_count": null,
      "outputs": []
    },
    {
      "cell_type": "code",
      "source": [
        "import os\n",
        "import cv2\n",
        "import json\n",
        "import numpy as np\n",
        "\n",
        "# def segment_tree_crown_and_shadow(image_patch):\n",
        "#     # Perform tree crown and shadow segmentation using custom or OpenCV-based methods\n",
        "#     # Return the segmented mask for crowns and shadows\n",
        "\n",
        "# Source folder containing TIFF images\n",
        "source_folder = \"/content/save_tif_folder\"\n",
        "target_folder = \"target_folder_json\"\n",
        "\n",
        "# Create the target folder if it doesn't exist\n",
        "if not os.path.exists(target_folder):\n",
        "    os.makedirs(target_folder)\n",
        "\n",
        "# Loop through TIFF images in the source folder\n",
        "for filename in os.listdir(source_folder):\n",
        "    if filename.endswith(\".tif\"):\n",
        "        tiff_image_path = os.path.join(source_folder, filename)\n",
        "        tiff_image = cv2.imread(tiff_image_path)\n",
        "\n",
        "        # Loop through the image to create patches\n",
        "        for y in range(0, tiff_image.shape[0], patch_size):\n",
        "            for x in range(0, tiff_image.shape[1], patch_size):\n",
        "                patch = tiff_image[y:y + patch_size, x:x + patch_size]\n",
        "                patch_filename = f\"{os.path.splitext(filename)[0]}_{x}_{y}.jpg\"\n",
        "                patch_path = os.path.join(target_folder, patch_filename)\n",
        "\n",
        "                # Convert and save the patch as JPG\n",
        "                cv2.imwrite(patch_path, patch)\n",
        "\n",
        "                # Perform tree crown and shadow segmentation on the patch\n",
        "                crown_mask, shadow_mask = segment_tree_crown_and_shadow(patch)\n",
        "\n",
        "                # Create JSON data for annotation\n",
        "                annotation_data = {\n",
        "                    \"patch_name\": patch_filename,\n",
        "                    \"crown_mask\": crown_mask.tolist(),\n",
        "                    \"shadow_mask\": shadow_mask.tolist()\n",
        "                }\n",
        "\n",
        "                # Save annotation data in JSON file\n",
        "                json_path = os.path.join(target_folder, f\"{os.path.splitext(filename)[0]}_{x}_{y}.json\")\n",
        "                with open(json_path, \"w\") as json_file:\n",
        "                    json.dump(annotation_data, json_file)\n",
        "\n",
        "print(\"Patches created, segmented, and annotated successfully.\")\n"
      ],
      "metadata": {
        "colab": {
          "base_uri": "https://localhost:8080/",
          "height": 401
        },
        "id": "Cd9h8g0Ioa7g",
        "outputId": "d6ea4987-d590-4010-db8a-5a37c27d170c"
      },
      "execution_count": 20,
      "outputs": [
        {
          "output_type": "error",
          "ename": "KeyboardInterrupt",
          "evalue": "ignored",
          "traceback": [
            "\u001b[0;31m---------------------------------------------------------------------------\u001b[0m",
            "\u001b[0;31mKeyboardInterrupt\u001b[0m                         Traceback (most recent call last)",
            "\u001b[0;32m<ipython-input-20-bf11221a0af1>\u001b[0m in \u001b[0;36m<cell line: 19>\u001b[0;34m()\u001b[0m\n\u001b[1;32m     45\u001b[0m                 \u001b[0mjson_path\u001b[0m \u001b[0;34m=\u001b[0m \u001b[0mos\u001b[0m\u001b[0;34m.\u001b[0m\u001b[0mpath\u001b[0m\u001b[0;34m.\u001b[0m\u001b[0mjoin\u001b[0m\u001b[0;34m(\u001b[0m\u001b[0mtarget_folder\u001b[0m\u001b[0;34m,\u001b[0m \u001b[0;34mf\"{os.path.splitext(filename)[0]}_{x}_{y}.json\"\u001b[0m\u001b[0;34m)\u001b[0m\u001b[0;34m\u001b[0m\u001b[0;34m\u001b[0m\u001b[0m\n\u001b[1;32m     46\u001b[0m                 \u001b[0;32mwith\u001b[0m \u001b[0mopen\u001b[0m\u001b[0;34m(\u001b[0m\u001b[0mjson_path\u001b[0m\u001b[0;34m,\u001b[0m \u001b[0;34m\"w\"\u001b[0m\u001b[0;34m)\u001b[0m \u001b[0;32mas\u001b[0m \u001b[0mjson_file\u001b[0m\u001b[0;34m:\u001b[0m\u001b[0;34m\u001b[0m\u001b[0;34m\u001b[0m\u001b[0m\n\u001b[0;32m---> 47\u001b[0;31m                     \u001b[0mjson\u001b[0m\u001b[0;34m.\u001b[0m\u001b[0mdump\u001b[0m\u001b[0;34m(\u001b[0m\u001b[0mannotation_data\u001b[0m\u001b[0;34m,\u001b[0m \u001b[0mjson_file\u001b[0m\u001b[0;34m)\u001b[0m\u001b[0;34m\u001b[0m\u001b[0;34m\u001b[0m\u001b[0m\n\u001b[0m\u001b[1;32m     48\u001b[0m \u001b[0;34m\u001b[0m\u001b[0m\n\u001b[1;32m     49\u001b[0m \u001b[0mprint\u001b[0m\u001b[0;34m(\u001b[0m\u001b[0;34m\"Patches created, segmented, and annotated successfully.\"\u001b[0m\u001b[0;34m)\u001b[0m\u001b[0;34m\u001b[0m\u001b[0;34m\u001b[0m\u001b[0m\n",
            "\u001b[0;32m/usr/lib/python3.10/json/__init__.py\u001b[0m in \u001b[0;36mdump\u001b[0;34m(obj, fp, skipkeys, ensure_ascii, check_circular, allow_nan, cls, indent, separators, default, sort_keys, **kw)\u001b[0m\n\u001b[1;32m    178\u001b[0m     \u001b[0;31m# a debuggability cost\u001b[0m\u001b[0;34m\u001b[0m\u001b[0;34m\u001b[0m\u001b[0m\n\u001b[1;32m    179\u001b[0m     \u001b[0;32mfor\u001b[0m \u001b[0mchunk\u001b[0m \u001b[0;32min\u001b[0m \u001b[0miterable\u001b[0m\u001b[0;34m:\u001b[0m\u001b[0;34m\u001b[0m\u001b[0;34m\u001b[0m\u001b[0m\n\u001b[0;32m--> 180\u001b[0;31m         \u001b[0mfp\u001b[0m\u001b[0;34m.\u001b[0m\u001b[0mwrite\u001b[0m\u001b[0;34m(\u001b[0m\u001b[0mchunk\u001b[0m\u001b[0;34m)\u001b[0m\u001b[0;34m\u001b[0m\u001b[0;34m\u001b[0m\u001b[0m\n\u001b[0m\u001b[1;32m    181\u001b[0m \u001b[0;34m\u001b[0m\u001b[0m\n\u001b[1;32m    182\u001b[0m \u001b[0;34m\u001b[0m\u001b[0m\n",
            "\u001b[0;31mKeyboardInterrupt\u001b[0m: "
          ]
        }
      ]
    }
  ],
  "metadata": {
    "colab": {
      "provenance": []
    },
    "kernelspec": {
      "display_name": "Python 3",
      "name": "python3"
    },
    "language_info": {
      "name": "python"
    }
  },
  "nbformat": 4,
  "nbformat_minor": 0
}